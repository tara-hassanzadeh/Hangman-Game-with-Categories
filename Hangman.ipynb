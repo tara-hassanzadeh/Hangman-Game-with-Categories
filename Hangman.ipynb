{
  "nbformat": 4,
  "nbformat_minor": 0,
  "metadata": {
    "colab": {
      "provenance": [],
      "authorship_tag": "ABX9TyNbzqDWrhxiKLUpyEKyxcRH",
      "include_colab_link": true
    },
    "kernelspec": {
      "name": "python3",
      "display_name": "Python 3"
    },
    "language_info": {
      "name": "python"
    }
  },
  "cells": [
    {
      "cell_type": "markdown",
      "metadata": {
        "id": "view-in-github",
        "colab_type": "text"
      },
      "source": [
        "<a href=\"https://colab.research.google.com/github/tara-hassanzadeh/Hangman-Game-with-Categories/blob/main/Hangman.ipynb\" target=\"_parent\"><img src=\"https://colab.research.google.com/assets/colab-badge.svg\" alt=\"Open In Colab\"/></a>"
      ]
    },
    {
      "cell_type": "markdown",
      "source": [
        "Hangman Game with Categories"
      ],
      "metadata": {
        "id": "BMxVakyXlxnl"
      }
    },
    {
      "cell_type": "code",
      "execution_count": 12,
      "metadata": {
        "colab": {
          "base_uri": "https://localhost:8080/"
        },
        "outputId": "fe9eb401-dfc5-4517-b6d3-8704abe4f8be",
        "id": "FB609GIeuU2Z"
      },
      "outputs": [
        {
          "output_type": "stream",
          "name": "stdout",
          "text": [
            "categories\n",
            "_ fruits\n",
            "_ jobs\n",
            "_ colors\n",
            "choose a category:fruits\n",
            "\n",
            "Game Started!\n",
            "- - - - -\n",
            "Enter a letter:b\n",
            "wrong! chances left: 4\n",
            "word: -----\n",
            "used_letters: b\n",
            "------------------------------\n",
            "Enter a letter:p\n",
            "Correct!\n",
            "word: p----\n",
            "used_letters: b p\n",
            "------------------------------\n",
            "Enter a letter:a\n",
            "Correct!\n",
            "word: p-a--\n",
            "used_letters: b p a\n",
            "------------------------------\n",
            "Enter a letter:e\n",
            "Correct!\n",
            "word: pea--\n",
            "used_letters: b p a e\n",
            "------------------------------\n",
            "Enter a letter:c\n",
            "Correct!\n",
            "word: peac-\n",
            "used_letters: b p a e c\n",
            "------------------------------\n",
            "Enter a letter:h\n",
            "Correct!\n",
            "word: peach\n",
            "used_letters: b p a e c h\n",
            "------------------------------\n",
            "Congratulations! You Won!\n"
          ]
        }
      ],
      "source": [
        "import random\n",
        "categories={\n",
        "    \"fruits\":[\"apple\", \"banana\", \"grape\", \"peach\", \"pomegranate\", \"berry\"],\n",
        "    \"jobs\":[\"teacher\", \"doctor\", \"engineer\", \"driver\", \"chef\", \"nurse\"],\n",
        "    \"colors\":[\"red\", \"blue\", \"black\", \"pink\", \"green\", \"purple\"]\n",
        "}\n",
        "print(\"categories\")\n",
        "for c in categories:\n",
        "  print(\"_\", c)\n",
        "category=input(\"choose a category:\").lower()\n",
        "if category not in categories:\n",
        "  print(\"invalid category! please restart the game.\")\n",
        "  exit()\n",
        "word=random.choice(categories[category])\n",
        "guesses=[\"-\"]* len(word)\n",
        "score=len(word)\n",
        "used_letters=[]\n",
        "print(\"\\nGame Started!\")\n",
        "print(\" \".join(guesses))\n",
        "while score>0 and \"-\" in guesses:\n",
        "  c=input(\"Enter a letter:\").lower()\n",
        "  if c in used_letters:\n",
        "    print(\"you already guessed thet letter!\")\n",
        "    continue\n",
        "  used_letters.append(c)\n",
        "  if c in word:\n",
        "    for i in range(len(word)):\n",
        "        if word[i]==c:\n",
        "         guesses[i]=c\n",
        "    print(\"Correct!\")\n",
        "  else:\n",
        "    score-=1\n",
        "    print(f\"wrong! chances left: {score}\")\n",
        "  print(\"word:\" , \"\".join(guesses))\n",
        "  print(\"used_letters:\" , \" \".join(used_letters))\n",
        "  print(\"-\"*30)\n",
        "if \"-\" not in guesses:\n",
        "  print(\"Congratulations! You Won!\")\n",
        "else:\n",
        "  print(f\"You Lost! The correct word was {word}\")"
      ]
    }
  ]
}